{
 "cells": [
  {
   "cell_type": "code",
   "execution_count": 79,
   "id": "40bfc5e4",
   "metadata": {},
   "outputs": [],
   "source": [
    "# with open('./developer_inputs/2.txt', 'r', encoding='utf-8') as f:\n",
    "with open('./sample_inputs/record_2.txt', 'r', encoding='utf-8') as f:\n",
    "    text = f.read()"
   ]
  },
  {
   "cell_type": "code",
   "execution_count": 80,
   "id": "66e7d542",
   "metadata": {},
   "outputs": [],
   "source": [
    "single_line_report = text.replace('\\n', ' ')"
   ]
  },
  {
   "cell_type": "code",
   "execution_count": 81,
   "id": "2f8b5ca0",
   "metadata": {},
   "outputs": [],
   "source": [
    "# Remove multiple consecutive spaces (optional)\n",
    "single_line_report = ' '.join(single_line_report.split())"
   ]
  },
  {
   "cell_type": "code",
   "execution_count": 82,
   "id": "b6cd8612",
   "metadata": {},
   "outputs": [
    {
     "data": {
      "text/plain": [
       "\"060376519 DH 0649031 323495 3838556 4/5/2003 12:00:00 AM ED Discharge Summary Unsigned DIS Report Status : Unsigned ED DISCHARGE NOTIFICATION / SUMMARY SELCFARST , NAORLY MRN : 0649031 Age : 49y REGISTRATION DATE : 04/05/2003 11:47 AM Provider : STIEGE , M.D. TLANDJESC PRELIMINARY REPORT PCP notified by MD : E-mail PCP Discharge Date / Time : 04/05/2003 22:06 Discharge Status : Discharged Condition on Discharge : Stable Patient States Complaint : DIZZINESS Standardized Discharge Instructions : The patient was given printed instructions for dizziness ( English ) . Diagnosis : Benign positional vertigo vs labyrinthitis Treatment Rendered : Head CT negative . Discharge Medications : Meclizine 25 mg po bid . Disposition , Follow up and Instructions to Patient : Return to ED or call PCP if symptoms worsen or if fever with headache . Pt d / c'd home in stable condition . PCP Name : GUYNLORDSMANTDOUET , RYLA B Provider Number : 26596 This report was created by TLANDJESC , IECELANE , M.D. 04/05/2003 10:09 PM [ report_end ]\""
      ]
     },
     "execution_count": 82,
     "metadata": {},
     "output_type": "execute_result"
    }
   ],
   "source": [
    "single_line_report"
   ]
  },
  {
   "cell_type": "code",
   "execution_count": 83,
   "id": "a33b3f23",
   "metadata": {},
   "outputs": [
    {
     "name": "stdout",
     "output_type": "stream",
     "text": [
      "060376519 DH 0649031 323495 3838556 4/5/2003 12:00:00 AM ED Discharge Summary Unsigned DIS Report Status : Unsigned ED DISCHARGE NOTIFICATION / SUMMARY SELCFARST , NAORLY MRN : 0649031 Age : 49y REGISTRATION DATE : 04/05/2003 11:47 AM Provider : STIEGE , M.D. TLANDJESC PRELIMINARY REPORT PCP notified by MD : E-mail PCP Discharge Date / Time : 04/05/2003 22:06 Discharge Status : Discharged Condition on Discharge : Stable Patient States Complaint : DIZZINESS Standardized Discharge Instructions : The patient was given printed instructions for dizziness ( English ) . Diagnosis : Benign positional vertigo vs labyrinthitis Treatment Rendered : Head CT negative . Discharge Medications : Meclizine 25 mg po bid . Disposition , Follow up and Instructions to Patient : Return to ED or call PCP if symptoms worsen or if fever with headache . Pt d / c'd home in stable condition . PCP Name : GUYNLORDSMANTDOUET , RYLA B Provider Number : 26596 This report was created by TLANDJESC , IECELANE , M.D. 04/05/2003 10:09 PM [ report_end ]\n"
     ]
    }
   ],
   "source": [
    "print(single_line_report)"
   ]
  },
  {
   "cell_type": "code",
   "execution_count": null,
   "id": "f99366ae",
   "metadata": {},
   "outputs": [],
   "source": []
  }
 ],
 "metadata": {
  "kernelspec": {
   "display_name": "general",
   "language": "python",
   "name": "python3"
  },
  "language_info": {
   "codemirror_mode": {
    "name": "ipython",
    "version": 3
   },
   "file_extension": ".py",
   "mimetype": "text/x-python",
   "name": "python",
   "nbconvert_exporter": "python",
   "pygments_lexer": "ipython3",
   "version": "3.10.18"
  }
 },
 "nbformat": 4,
 "nbformat_minor": 5
}
